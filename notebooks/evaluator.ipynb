{
 "cells": [
  {
   "cell_type": "code",
   "execution_count": 32,
   "id": "cf21611a",
   "metadata": {},
   "outputs": [],
   "source": [
    "import json\n",
    "import re"
   ]
  },
  {
   "cell_type": "code",
   "execution_count": 10,
   "id": "643ebbbc",
   "metadata": {},
   "outputs": [
    {
     "name": "stdout",
     "output_type": "stream",
     "text": [
      "[{'task_id': 't00', 'task_description': 'Open Watches menu and retrieve the name of the first product in the list.', 'task_type': 'lookup', 'start_url': '__SHOPPING__', 'require_login': False, 'eval': {'eval_type': ['string_match', 'regex_match', 'url_match', 'dom_match'], 'string_match': {'match_type': 'exact', 'match_value': 'Aim Analog Watch'}, 'regex_match': {'email': {'pattern': '^[\\\\w\\\\.-]+@[\\\\w\\\\.-]+\\\\.\\\\w{2,}$', 'required': 'true', 'description': 'A valid email address format (e.g., user@example.com)'}, 'password': {'pattern': '^(?=.*[A-Z])(?=.*[a-z])(?=.*\\\\d)[A-Za-z\\\\d!@#$%^&*()_+=\\\\-]{8,}$', 'required': 'true', 'description': 'Minimum 8 characters, at least one uppercase letter, one lowercase letter, and one number'}}, 'url_match': {'url': 'last', 'match_type': 'contains', 'match_value': 'customer/account'}, 'dom_match': {'url': 'http://localhost:8084/aim-analog-watch.html', 'dom_extractor': \"document.querySelector('#old-price-36 .price').innerText;\", 'match_type': 'exact', 'match_value': '$45.00', 'description': '{{description}}'}}}, {'task_id': 't01', 'task_description': \"Open all 'Jackets' menus and retrieve the name of the first product from each.\", 'task_type': 'lookup', 'start_url': '__SHOPPING__', 'require_login': False, 'eval': {'eval_type': ['string_match', 'regex_match', 'url_match', 'dom_match'], 'string_match': {'match_type': 'contains', 'match_value': ['Beaumont Summit Kit', 'Stellar Solar Jacket']}, 'regex_match': {'email': {'pattern': '^[\\\\w\\\\.-]+@[\\\\w\\\\.-]+\\\\.\\\\w{2,}$', 'required': 'true', 'description': 'A valid email address format (e.g., user@example.com)'}, 'password': {'pattern': '^(?=.*[A-Z])(?=.*[a-z])(?=.*\\\\d)[A-Za-z\\\\d!@#$%^&*()_+=\\\\-]{8,}$', 'required': 'true', 'description': 'Minimum 8 characters, at least one uppercase letter, one lowercase letter, and one number'}}, 'url_match': {'url': 'last', 'match_type': 'contains', 'match_value': 'customer/account'}, 'dom_match': {'url': 'http://localhost:8084/aim-analog-watch.html', 'dom_extractor': \"document.querySelector('#old-price-36 .price').innerText;\", 'match_type': 'exact', 'match_value': '$45.00', 'description': '{{description}}'}}}]\n"
     ]
    }
   ],
   "source": [
    "with open('../data/evaluate_data.json', 'r', encoding='utf-8') as file:\n",
    "    data = json.load(file)\n",
    "\n",
    "print(data)"
   ]
  },
  {
   "cell_type": "code",
   "execution_count": 29,
   "id": "93234523",
   "metadata": {},
   "outputs": [
    {
     "name": "stdout",
     "output_type": "stream",
     "text": [
      "{'task_id': 't00', 'task_description': 'Open Watches menu and retrieve the name of the first product in the list.', 'task_type': 'lookup', 'start_url': '__SHOPPING__', 'require_login': False, 'eval': {'eval_type': ['string_match', 'regex_match', 'url_match', 'dom_match'], 'string_match': {'match_type': 'exact', 'match_value': 'Aim Analog Watch'}, 'regex_match': {'email': {'pattern': '^[\\\\w\\\\.-]+@[\\\\w\\\\.-]+\\\\.\\\\w{2,}$', 'required': 'true', 'description': 'A valid email address format (e.g., user@example.com)'}, 'password': {'pattern': '^(?=.*[A-Z])(?=.*[a-z])(?=.*\\\\d)[A-Za-z\\\\d!@#$%^&*()_+=\\\\-]{8,}$', 'required': 'true', 'description': 'Minimum 8 characters, at least one uppercase letter, one lowercase letter, and one number'}}, 'url_match': {'url': 'last', 'match_type': 'contains', 'match_value': 'customer/account'}, 'dom_match': {'url': 'http://localhost:8084/aim-analog-watch.html', 'dom_extractor': \"document.querySelector('#old-price-36 .price').innerText;\", 'match_type': 'exact', 'match_value': '$45.00', 'description': '{{description}}'}}}\n",
      "{'eval_type': ['string_match', 'regex_match', 'url_match', 'dom_match'], 'string_match': {'match_type': 'exact', 'match_value': 'Aim Analog Watch'}, 'regex_match': {'email': {'pattern': '^[\\\\w\\\\.-]+@[\\\\w\\\\.-]+\\\\.\\\\w{2,}$', 'required': 'true', 'description': 'A valid email address format (e.g., user@example.com)'}, 'password': {'pattern': '^(?=.*[A-Z])(?=.*[a-z])(?=.*\\\\d)[A-Za-z\\\\d!@#$%^&*()_+=\\\\-]{8,}$', 'required': 'true', 'description': 'Minimum 8 characters, at least one uppercase letter, one lowercase letter, and one number'}}, 'url_match': {'url': 'last', 'match_type': 'contains', 'match_value': 'customer/account'}, 'dom_match': {'url': 'http://localhost:8084/aim-analog-watch.html', 'dom_extractor': \"document.querySelector('#old-price-36 .price').innerText;\", 'match_type': 'exact', 'match_value': '$45.00', 'description': '{{description}}'}}\n"
     ]
    }
   ],
   "source": [
    "task_id_to_find = 't00'  # Example task ID to find\n",
    "# Tìm task\n",
    "task = next((task for task in data if task['task_id'] == task_id_to_find), None)\n",
    "if task:\n",
    "    print(task)\n",
    "else:\n",
    "    print(\"Task not found\")\n",
    "    exit(1)\n",
    "print(task['eval'])"
   ]
  },
  {
   "cell_type": "code",
   "execution_count": null,
   "id": "01ed2326",
   "metadata": {},
   "outputs": [
    {
     "name": "stdout",
     "output_type": "stream",
     "text": [
      "Match type: string_match\n",
      "This is a string match evaluation task.\n",
      "Match type: regex_match\n",
      "This is a regex match evaluation task.\n",
      "Match type: url_match\n",
      "This is a URL match evaluation task.\n",
      "Match type: dom_match\n",
      "This is a DOM match evaluation task.\n"
     ]
    }
   ],
   "source": [
    "agent_result = task['eval']['agent_result']\n",
    "def string_match(agent_result, match_value):\n",
    "    return True\n",
    "def regex_match(agent_result, match_value):\n",
    "    return True\n",
    "def url_match(agent_result, match_value):\n",
    "    return True    \n",
    "def dom_match(agent_result, match_value):\n",
    "    return True\n",
    "\n",
    "result = False\n",
    "for match_type in task['eval']['eval_type']:\n",
    "    print(f\"Match type: {match_type}\")\n",
    "    flag_type = False\n",
    "\n",
    "    if match_type == 'string_match':\n",
    "        flag_type = True\n",
    "        if not string_match(agent_result, task['eval']['match_value']):\n",
    "            break\n",
    "        result = True\n",
    "\n",
    "    elif match_type == 'regex_match':\n",
    "        flag_type = True\n",
    "        if not regex_match(agent_result, task['eval']['match_value']):\n",
    "            break\n",
    "        result = True\n",
    "\n",
    "    elif match_type == 'url_match':\n",
    "        flag_type = True\n",
    "        if not url_match(agent_result, task['eval']['match_value']):\n",
    "            break\n",
    "        result = True\n",
    "\n",
    "    elif match_type == 'dom_match':\n",
    "        flag_type = True\n",
    "        if not dom_match(agent_result, task['eval']['match_value']):\n",
    "            break\n",
    "        result = True\n",
    "\n",
    "    else:\n",
    "        print(\"This is an unknown evaluation task type.\")"
   ]
  },
  {
   "cell_type": "code",
   "execution_count": null,
   "id": "31442a4b",
   "metadata": {},
   "outputs": [],
   "source": [
    "# Giả sử đây là agent_result bạn lấy được từ UI\n",
    "# (bạn cần thay giá trị thực tế)\n",
    "agent_result = {\n",
    "    \"string_match\": \"Aim Analog Watch\",\n",
    "    \"url_match\": \"http://localhost:8084/customer/account\",\n",
    "    \"dom_match\": \"$45.00\",\n",
    "    \"regex_match\": {\n",
    "        \"email\": \"user@example.com\",\n",
    "        \"password\": \"MySecurePass1\"\n",
    "    }\n",
    "}\n",
    "\n",
    "# Hàm kiểm tra string_match\n",
    "def string_match(agent_value, match_conf):\n",
    "    if isinstance(match_conf['match_value'], str):\n",
    "        match_values = [match_conf['match_value']]\n",
    "    else:\n",
    "        match_values = match_conf['match_value']\n",
    "\n",
    "    if match_conf['match_type'] == 'exact':\n",
    "        return all(agent_value == v for v in match_values)\n",
    "    elif match_conf['match_type'] == 'contains':\n",
    "        return all(v in agent_value for v in match_values)\n",
    "    else:\n",
    "        print(\"Unknown string_match type\")\n",
    "        return False\n",
    "\n",
    "# Hàm kiểm tra regex_match\n",
    "def regex_match(agent_value, match_conf):\n",
    "    for field, conf in match_conf.items():\n",
    "        value = agent_value.get(field, \"\")\n",
    "        pattern = conf['pattern']\n",
    "        if not re.match(pattern, value):\n",
    "            print(f\"Regex match failed for {field}: {value} does not match {pattern}\")\n",
    "            return False\n",
    "    return True\n",
    "\n",
    "# Hàm kiểm tra url_match\n",
    "def url_match(agent_value, match_conf):\n",
    "    if match_conf['match_type'] == 'exact':\n",
    "        return agent_value == match_conf['match_value']\n",
    "    elif match_conf['match_type'] == 'contains':\n",
    "        return match_conf['match_value'] in agent_value\n",
    "    else:\n",
    "        print(\"Unknown url_match type\")\n",
    "        return False\n",
    "\n",
    "# Hàm kiểm tra dom_match\n",
    "def dom_match(agent_value, match_conf):\n",
    "    if match_conf['match_type'] == 'exact':\n",
    "        return agent_value == match_conf['match_value']\n",
    "    elif match_conf['match_type'] == 'contains':\n",
    "        return match_conf['match_value'] in agent_value\n",
    "    else:\n",
    "        print(\"Unknown dom_match type\")\n",
    "        return False"
   ]
  },
  {
   "cell_type": "code",
   "execution_count": null,
   "id": "45385f6d",
   "metadata": {},
   "outputs": [],
   "source": [
    "# Hàm đánh giá 1 task\n",
    "def evaluate_task(task, agent_result):\n",
    "    handlers = {\n",
    "        'string_match': string_match,\n",
    "        'regex_match': regex_match,\n",
    "        'url_match': url_match,\n",
    "        'dom_match': dom_match\n",
    "    }\n",
    "\n",
    "    eval_block = task['eval']\n",
    "    result = False\n",
    "\n",
    "    for eval_type in eval_block['eval_type']:\n",
    "        print(f\"Evaluating {eval_type}...\")\n",
    "        handler = handlers.get(eval_type)\n",
    "        if handler:\n",
    "            agent_value = agent_result[eval_type]\n",
    "            match_conf = eval_block[eval_type]\n",
    "\n",
    "            if not handler(agent_value, match_conf):\n",
    "                print(f\"Evaluation failed for {eval_type}\")\n",
    "                return False  # Nếu 1 điều kiện fail → fail toàn bộ\n",
    "            result = True\n",
    "        else:\n",
    "            print(f\"Unknown eval type: {eval_type}\")\n",
    "\n",
    "    return result"
   ]
  }
 ],
 "metadata": {
  "kernelspec": {
   "display_name": "Python 3",
   "language": "python",
   "name": "python3"
  },
  "language_info": {
   "codemirror_mode": {
    "name": "ipython",
    "version": 3
   },
   "file_extension": ".py",
   "mimetype": "text/x-python",
   "name": "python",
   "nbconvert_exporter": "python",
   "pygments_lexer": "ipython3",
   "version": "3.12.1"
  }
 },
 "nbformat": 4,
 "nbformat_minor": 5
}
